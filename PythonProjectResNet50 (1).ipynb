{
  "nbformat": 4,
  "nbformat_minor": 0,
  "metadata": {
    "colab": {
      "name": "PythonProjectResNet50.ipynb",
      "provenance": [],
      "collapsed_sections": []
    },
    "kernelspec": {
      "name": "python3",
      "display_name": "Python 3"
    },
    "language_info": {
      "name": "python"
    },
    "accelerator": "GPU"
  },
  "cells": [
    {
      "cell_type": "code",
      "execution_count": 1,
      "metadata": {
        "id": "t5-6m4ZWO8o9"
      },
      "outputs": [],
      "source": [
        "import pandas as pd\n",
        "import numpy as np\n",
        "import keras\n",
        "import tensorflow as tf\n",
        "import matplotlib.pyplot as plt\n",
        "import seaborn as sns\n",
        "from keras import layers, optimizers\n",
        "from tensorflow.keras import Model\n",
        "from keras.models import Sequential\n",
        "from keras.layers import Dense, Conv2D , MaxPool2D , Flatten , Dropout , BatchNormalization, GlobalAveragePooling2D\n",
        "from keras.preprocessing.image import ImageDataGenerator\n",
        "from sklearn.metrics import classification_report,confusion_matrix\n",
        "from keras.callbacks import ReduceLROnPlateau\n",
        "from sklearn.model_selection import train_test_split\n",
        "from tensorflow.keras.utils import to_categorical, plot_model\n",
        "from tensorflow.keras.callbacks import EarlyStopping,ModelCheckpoint\n",
        "from keras.applications.resnet import ResNet50 #loading the resnet50 model\n",
        "import cv2\n",
        "import os"
      ]
    },
    {
      "cell_type": "code",
      "source": [
        "from google.colab import drive\n",
        "drive.mount('/content/gdrive')"
      ],
      "metadata": {
        "colab": {
          "base_uri": "https://localhost:8080/"
        },
        "id": "HckE96oWPChY",
        "outputId": "6025a9f7-57de-4a59-8bbc-7cb4c821be7d"
      },
      "execution_count": 2,
      "outputs": [
        {
          "output_type": "stream",
          "name": "stdout",
          "text": [
            "Drive already mounted at /content/gdrive; to attempt to forcibly remount, call drive.mount(\"/content/gdrive\", force_remount=True).\n"
          ]
        }
      ]
    },
    {
      "cell_type": "code",
      "source": [
        "#prevents overfitting and handles the imbalance in dataset\n",
        "\n",
        "# normalizing the images\n",
        "data_aug = ImageDataGenerator(preprocessing_function=tf.keras.applications.resnet50.preprocess_input)\n",
        "\n",
        "# creating train data\n",
        "train = data_aug.flow_from_directory('/content/gdrive/MyDrive/PythonProjectWebApp/chest_xray/train', target_size=(150, 150), class_mode='categorical', batch_size=32, shuffle=True )\n",
        "\n",
        "# creating test data\n",
        "test = data_aug.flow_from_directory('/content/gdrive/MyDrive/PythonProjectWebApp/chest_xray/test', target_size=(150, 150), class_mode='categorical', batch_size=32, shuffle=True)"
      ],
      "metadata": {
        "colab": {
          "base_uri": "https://localhost:8080/"
        },
        "id": "qZmv143bPfb3",
        "outputId": "3cefe1f7-dc68-4279-d998-09cacac62aae"
      },
      "execution_count": 57,
      "outputs": [
        {
          "output_type": "stream",
          "name": "stdout",
          "text": [
            "Found 5216 images belonging to 2 classes.\n",
            "Found 624 images belonging to 2 classes.\n"
          ]
        }
      ]
    },
    {
      "cell_type": "code",
      "source": [
        "#building the model\n",
        "\n",
        "resNet  = ResNet50( input_shape=(150,150,3), include_top=False)\n",
        "\n",
        "# freezing restNet layers\n",
        "for layer in resNet.layers:\n",
        "  layer.trainable = False\n",
        "\n",
        "l = resNet.output\n",
        "# adding Maxpool layer\n",
        "l = GlobalAveragePooling2D()(l)\n",
        "# adding dense layers\n",
        "l = Dense(64, activation='relu')(l)\n",
        "l = Dense(32, activation='relu')(l)\n",
        "\n",
        "output_layer =layers.Dense(2, activation='sigmoid')(l)\n",
        "\n",
        "# creating early stopping.\n",
        "es = EarlyStopping(monitor='val_loss', mode='min', patience = 5, restore_best_weights=True)\n",
        "# creating model checkpoint\n",
        "mc = ModelCheckpoint(\"ResNetModel.h5\", monitor='val_loss', mode='min', verbose=1, save_best_only=True)\n",
        "# creating class weights\n",
        "cw = {0: 1.0, 1: 1.0}\n",
        "\n",
        "model = Model(inputs=resNet.input, outputs=output_layer)\n",
        "\n",
        "model.summary()\n",
        "\n",
        "plot_model(model, to_file = 'model_plot.png', show_shapes = True, show_layer_names = True)"
      ],
      "metadata": {
        "colab": {
          "base_uri": "https://localhost:8080/",
          "height": 398
        },
        "id": "HgmL-kd6PhiO",
        "outputId": "a58b585e-f7df-4eaa-a243-e39c0fb299f6"
      },
      "execution_count": 59,
      "outputs": [
        {
          "output_type": "error",
          "ename": "ValueError",
          "evalue": "ignored",
          "traceback": [
            "\u001b[0;31m---------------------------------------------------------------------------\u001b[0m",
            "\u001b[0;31mValueError\u001b[0m                                Traceback (most recent call last)",
            "\u001b[0;32m<ipython-input-59-6aa5bac06fdb>\u001b[0m in \u001b[0;36m<module>\u001b[0;34m()\u001b[0m\n\u001b[1;32m      1\u001b[0m \u001b[0;31m#building the model\u001b[0m\u001b[0;34m\u001b[0m\u001b[0;34m\u001b[0m\u001b[0;34m\u001b[0m\u001b[0m\n\u001b[1;32m      2\u001b[0m \u001b[0;34m\u001b[0m\u001b[0m\n\u001b[0;32m----> 3\u001b[0;31m \u001b[0mresNet\u001b[0m  \u001b[0;34m=\u001b[0m \u001b[0mResNet50\u001b[0m\u001b[0;34m(\u001b[0m \u001b[0minput_shape\u001b[0m\u001b[0;34m=\u001b[0m\u001b[0;34m(\u001b[0m\u001b[0;36m150\u001b[0m\u001b[0;34m,\u001b[0m\u001b[0;36m150\u001b[0m\u001b[0;34m,\u001b[0m\u001b[0;36m2\u001b[0m\u001b[0;34m)\u001b[0m\u001b[0;34m,\u001b[0m \u001b[0minclude_top\u001b[0m\u001b[0;34m=\u001b[0m\u001b[0;32mFalse\u001b[0m\u001b[0;34m)\u001b[0m\u001b[0;34m\u001b[0m\u001b[0;34m\u001b[0m\u001b[0m\n\u001b[0m\u001b[1;32m      4\u001b[0m \u001b[0;34m\u001b[0m\u001b[0m\n\u001b[1;32m      5\u001b[0m \u001b[0;31m# freezing restNet layers\u001b[0m\u001b[0;34m\u001b[0m\u001b[0;34m\u001b[0m\u001b[0;34m\u001b[0m\u001b[0m\n",
            "\u001b[0;32m/usr/local/lib/python3.7/dist-packages/keras/applications/resnet.py\u001b[0m in \u001b[0;36mResNet50\u001b[0;34m(include_top, weights, input_tensor, input_shape, pooling, classes, **kwargs)\u001b[0m\n\u001b[1;32m    457\u001b[0m \u001b[0;34m\u001b[0m\u001b[0m\n\u001b[1;32m    458\u001b[0m   return ResNet(stack_fn, False, True, 'resnet50', include_top, weights,\n\u001b[0;32m--> 459\u001b[0;31m                 input_tensor, input_shape, pooling, classes, **kwargs)\n\u001b[0m\u001b[1;32m    460\u001b[0m \u001b[0;34m\u001b[0m\u001b[0m\n\u001b[1;32m    461\u001b[0m \u001b[0;34m\u001b[0m\u001b[0m\n",
            "\u001b[0;32m/usr/local/lib/python3.7/dist-packages/keras/applications/resnet.py\u001b[0m in \u001b[0;36mResNet\u001b[0;34m(stack_fn, preact, use_bias, model_name, include_top, weights, input_tensor, input_shape, pooling, classes, classifier_activation, **kwargs)\u001b[0m\n\u001b[1;32m    139\u001b[0m       \u001b[0mdata_format\u001b[0m\u001b[0;34m=\u001b[0m\u001b[0mbackend\u001b[0m\u001b[0;34m.\u001b[0m\u001b[0mimage_data_format\u001b[0m\u001b[0;34m(\u001b[0m\u001b[0;34m)\u001b[0m\u001b[0;34m,\u001b[0m\u001b[0;34m\u001b[0m\u001b[0;34m\u001b[0m\u001b[0m\n\u001b[1;32m    140\u001b[0m       \u001b[0mrequire_flatten\u001b[0m\u001b[0;34m=\u001b[0m\u001b[0minclude_top\u001b[0m\u001b[0;34m,\u001b[0m\u001b[0;34m\u001b[0m\u001b[0;34m\u001b[0m\u001b[0m\n\u001b[0;32m--> 141\u001b[0;31m       weights=weights)\n\u001b[0m\u001b[1;32m    142\u001b[0m \u001b[0;34m\u001b[0m\u001b[0m\n\u001b[1;32m    143\u001b[0m   \u001b[0;32mif\u001b[0m \u001b[0minput_tensor\u001b[0m \u001b[0;32mis\u001b[0m \u001b[0;32mNone\u001b[0m\u001b[0;34m:\u001b[0m\u001b[0;34m\u001b[0m\u001b[0;34m\u001b[0m\u001b[0m\n",
            "\u001b[0;32m/usr/local/lib/python3.7/dist-packages/keras/applications/imagenet_utils.py\u001b[0m in \u001b[0;36mobtain_input_shape\u001b[0;34m(input_shape, default_size, min_size, data_format, require_flatten, weights)\u001b[0m\n\u001b[1;32m    370\u001b[0m           \u001b[0;32mraise\u001b[0m \u001b[0mValueError\u001b[0m\u001b[0;34m(\u001b[0m\u001b[0;34m'`input_shape` must be a tuple of three integers.'\u001b[0m\u001b[0;34m)\u001b[0m\u001b[0;34m\u001b[0m\u001b[0;34m\u001b[0m\u001b[0m\n\u001b[1;32m    371\u001b[0m         \u001b[0;32mif\u001b[0m \u001b[0minput_shape\u001b[0m\u001b[0;34m[\u001b[0m\u001b[0;34m-\u001b[0m\u001b[0;36m1\u001b[0m\u001b[0;34m]\u001b[0m \u001b[0;34m!=\u001b[0m \u001b[0;36m3\u001b[0m \u001b[0;32mand\u001b[0m \u001b[0mweights\u001b[0m \u001b[0;34m==\u001b[0m \u001b[0;34m'imagenet'\u001b[0m\u001b[0;34m:\u001b[0m\u001b[0;34m\u001b[0m\u001b[0;34m\u001b[0m\u001b[0m\n\u001b[0;32m--> 372\u001b[0;31m           raise ValueError('The input must have 3 channels; Received '\n\u001b[0m\u001b[1;32m    373\u001b[0m                            f'`input_shape={input_shape}`')\n\u001b[1;32m    374\u001b[0m         if ((input_shape[0] is not None and input_shape[0] < min_size) or\n",
            "\u001b[0;31mValueError\u001b[0m: The input must have 3 channels; Received `input_shape=(150, 150, 2)`"
          ]
        }
      ]
    },
    {
      "cell_type": "code",
      "source": [
        "# compile model\n",
        "model.compile(optimizer= tf.keras.optimizers.SGD(lr=1e-4, momentum=0.9), loss='categorical_crossentropy', metrics=['accuracy'])"
      ],
      "metadata": {
        "colab": {
          "base_uri": "https://localhost:8080/"
        },
        "id": "KAfh_2zlRe0d",
        "outputId": "713a3bb9-f687-4b43-eed1-bd7ec064681f"
      },
      "execution_count": 44,
      "outputs": [
        {
          "output_type": "stream",
          "name": "stderr",
          "text": [
            "/usr/local/lib/python3.7/dist-packages/keras/optimizer_v2/gradient_descent.py:102: UserWarning: The `lr` argument is deprecated, use `learning_rate` instead.\n",
            "  super(SGD, self).__init__(name, **kwargs)\n"
          ]
        }
      ]
    },
    {
      "cell_type": "code",
      "source": [
        "# fitting the model\n",
        "history = model.fit(train, epochs=12, validation_data=test, callbacks = [es,mc],verbose=1,class_weight=cw, steps_per_epoch= len(train),validation_steps= len(test))"
      ],
      "metadata": {
        "colab": {
          "base_uri": "https://localhost:8080/"
        },
        "id": "qJ6w7ZFEPjLO",
        "outputId": "7dcd15c1-8f3f-4d00-a852-50fba37e7dd9"
      },
      "execution_count": 45,
      "outputs": [
        {
          "output_type": "stream",
          "name": "stdout",
          "text": [
            "Epoch 1/12\n",
            "163/163 [==============================] - ETA: 0s - loss: 0.3468 - accuracy: 0.8441\n",
            "Epoch 1: val_loss improved from inf to 0.53554, saving model to ResNetModel.h5\n",
            "163/163 [==============================] - 75s 434ms/step - loss: 0.3468 - accuracy: 0.8441 - val_loss: 0.5355 - val_accuracy: 0.7388\n",
            "Epoch 2/12\n",
            "163/163 [==============================] - ETA: 0s - loss: 0.1945 - accuracy: 0.9256\n",
            "Epoch 2: val_loss improved from 0.53554 to 0.53109, saving model to ResNetModel.h5\n",
            "163/163 [==============================] - 70s 427ms/step - loss: 0.1945 - accuracy: 0.9256 - val_loss: 0.5311 - val_accuracy: 0.7564\n",
            "Epoch 3/12\n",
            "163/163 [==============================] - ETA: 0s - loss: 0.1606 - accuracy: 0.9410\n",
            "Epoch 3: val_loss did not improve from 0.53109\n",
            "163/163 [==============================] - 69s 423ms/step - loss: 0.1606 - accuracy: 0.9410 - val_loss: 0.5924 - val_accuracy: 0.7532\n",
            "Epoch 4/12\n",
            "163/163 [==============================] - ETA: 0s - loss: 0.1424 - accuracy: 0.9457\n",
            "Epoch 4: val_loss did not improve from 0.53109\n",
            "163/163 [==============================] - 69s 425ms/step - loss: 0.1424 - accuracy: 0.9457 - val_loss: 0.5500 - val_accuracy: 0.7740\n",
            "Epoch 5/12\n",
            "163/163 [==============================] - ETA: 0s - loss: 0.1289 - accuracy: 0.9519\n",
            "Epoch 5: val_loss improved from 0.53109 to 0.53106, saving model to ResNetModel.h5\n",
            "163/163 [==============================] - 71s 434ms/step - loss: 0.1289 - accuracy: 0.9519 - val_loss: 0.5311 - val_accuracy: 0.7837\n",
            "Epoch 6/12\n",
            "163/163 [==============================] - ETA: 0s - loss: 0.1196 - accuracy: 0.9559\n",
            "Epoch 6: val_loss did not improve from 0.53106\n",
            "163/163 [==============================] - 68s 419ms/step - loss: 0.1196 - accuracy: 0.9559 - val_loss: 0.5788 - val_accuracy: 0.7772\n",
            "Epoch 7/12\n",
            "163/163 [==============================] - ETA: 0s - loss: 0.1117 - accuracy: 0.9603\n",
            "Epoch 7: val_loss improved from 0.53106 to 0.52490, saving model to ResNetModel.h5\n",
            "163/163 [==============================] - 69s 422ms/step - loss: 0.1117 - accuracy: 0.9603 - val_loss: 0.5249 - val_accuracy: 0.7933\n",
            "Epoch 8/12\n",
            "163/163 [==============================] - ETA: 0s - loss: 0.1062 - accuracy: 0.9640\n",
            "Epoch 8: val_loss did not improve from 0.52490\n",
            "163/163 [==============================] - 69s 423ms/step - loss: 0.1062 - accuracy: 0.9640 - val_loss: 0.6045 - val_accuracy: 0.7740\n",
            "Epoch 9/12\n",
            "163/163 [==============================] - ETA: 0s - loss: 0.1000 - accuracy: 0.9651\n",
            "Epoch 9: val_loss did not improve from 0.52490\n",
            "163/163 [==============================] - 68s 418ms/step - loss: 0.1000 - accuracy: 0.9651 - val_loss: 0.5625 - val_accuracy: 0.7901\n",
            "Epoch 10/12\n",
            "163/163 [==============================] - ETA: 0s - loss: 0.0953 - accuracy: 0.9655\n",
            "Epoch 10: val_loss did not improve from 0.52490\n",
            "163/163 [==============================] - 68s 417ms/step - loss: 0.0953 - accuracy: 0.9655 - val_loss: 0.6639 - val_accuracy: 0.7724\n",
            "Epoch 11/12\n",
            "163/163 [==============================] - ETA: 0s - loss: 0.0922 - accuracy: 0.9672\n",
            "Epoch 11: val_loss did not improve from 0.52490\n",
            "163/163 [==============================] - 68s 415ms/step - loss: 0.0922 - accuracy: 0.9672 - val_loss: 0.6410 - val_accuracy: 0.7804\n",
            "Epoch 12/12\n",
            "163/163 [==============================] - ETA: 0s - loss: 0.0882 - accuracy: 0.9695\n",
            "Epoch 12: val_loss did not improve from 0.52490\n",
            "163/163 [==============================] - 68s 417ms/step - loss: 0.0882 - accuracy: 0.9695 - val_loss: 0.6001 - val_accuracy: 0.7901\n"
          ]
        }
      ]
    },
    {
      "cell_type": "code",
      "source": [
        "model.save('PNmodelResNet50.h5')"
      ],
      "metadata": {
        "id": "lM0V7iTsPlh_"
      },
      "execution_count": 46,
      "outputs": []
    },
    {
      "cell_type": "code",
      "source": [
        "#read the image\n",
        "# function to load the dataset and return the dataset list\n",
        "# containing elements of format [scans, target]\n",
        "targets = ['PNEUMONIA', 'NORMAL']\n",
        "img_size = 150\n",
        "def get_training_data(scans):\n",
        "    data = list()\n",
        "    for target in targets: \n",
        "        path = os.path.join(scans, target)\n",
        "        class_label = targets.index(target)\n",
        "        for img in os.listdir(path):\n",
        "            try:\n",
        "                arr = cv2.imread(os.path.join(path, img), cv2.IMREAD_GRAYSCALE)\n",
        "                resized_arr = cv2.resize(arr, (img_size, img_size))\n",
        "                data.append([resized_arr, class_label])\n",
        "            except Exception as e:\n",
        "                print(e)\n",
        "    return np.array(data)"
      ],
      "metadata": {
        "id": "yFDLr2ULxaSD"
      },
      "execution_count": 104,
      "outputs": []
    },
    {
      "cell_type": "code",
      "source": [
        "#extracting the dataset\n",
        "train = get_training_data('/content/gdrive/MyDrive/PythonProjectWebApp/chest_xray/train')\n",
        "test = get_training_data('/content/gdrive/MyDrive/PythonProjectWebApp/chest_xray/test')\n",
        "val = get_training_data('/content/gdrive/MyDrive/PythonProjectWebApp/chest_xray/val')\n"
      ],
      "metadata": {
        "colab": {
          "base_uri": "https://localhost:8080/"
        },
        "id": "3oNOrtrlxblr",
        "outputId": "a9ea0e2d-c6fe-48bc-8b19-5d66d40ec707"
      },
      "execution_count": 105,
      "outputs": [
        {
          "output_type": "stream",
          "name": "stderr",
          "text": [
            "/usr/local/lib/python3.7/dist-packages/ipykernel_launcher.py:18: VisibleDeprecationWarning: Creating an ndarray from ragged nested sequences (which is a list-or-tuple of lists-or-tuples-or ndarrays with different lengths or shapes) is deprecated. If you meant to do this, you must specify 'dtype=object' when creating the ndarray.\n"
          ]
        }
      ]
    },
    {
      "cell_type": "code",
      "source": [
        "#split the data into training, testing and validation groups with variables to hold the target names.\n",
        "X_train = []\n",
        "y_train = []\n",
        "\n",
        "X_val = []\n",
        "y_val = []\n",
        "\n",
        "X_test = []\n",
        "y_test = []\n",
        "\n",
        "for image_scan, target in train:\n",
        "    X_train.append(image_scan)\n",
        "    y_train.append(target)\n",
        "\n",
        "for image_scan, target in test:\n",
        "    X_test.append(image_scan)\n",
        "    y_test.append(target)\n",
        "    \n",
        "for image_scan, target in val:\n",
        "    X_val.append(image_scan)\n",
        "    y_val.append(target)"
      ],
      "metadata": {
        "id": "3juWoLpRxc5b"
      },
      "execution_count": 106,
      "outputs": []
    },
    {
      "cell_type": "code",
      "source": [
        "# Normalize data\n",
        "X_train = np.array(X_train) / 255\n",
        "X_val = np.array(X_val) / 255\n",
        "X_test = np.array(X_test) / 255\n",
        "X_test.shape"
      ],
      "metadata": {
        "colab": {
          "base_uri": "https://localhost:8080/"
        },
        "id": "HqfoUpm1xdzS",
        "outputId": "d13ae6b7-4cd0-4aed-e7f6-1f712f3e0ea7"
      },
      "execution_count": 107,
      "outputs": [
        {
          "output_type": "execute_result",
          "data": {
            "text/plain": [
              "(624, 150, 150)"
            ]
          },
          "metadata": {},
          "execution_count": 107
        }
      ]
    },
    {
      "cell_type": "code",
      "source": [
        "\n",
        "X_test = np.stack(X_test, axis=0)  \n",
        "X_test = X_test.reshape(-1, img_size, img_size, 3)\n",
        "y_test = np.array(y_test)\n",
        "X_test.shape"
      ],
      "metadata": {
        "colab": {
          "base_uri": "https://localhost:8080/"
        },
        "id": "DbaytbcOxexq",
        "outputId": "46b22b34-b452-4b9a-a66e-7e1605b3a513"
      },
      "execution_count": 109,
      "outputs": [
        {
          "output_type": "execute_result",
          "data": {
            "text/plain": [
              "(208, 150, 150, 3)"
            ]
          },
          "metadata": {},
          "execution_count": 109
        }
      ]
    },
    {
      "cell_type": "code",
      "source": [
        "model.evaluate(X_test,y_test)"
      ],
      "metadata": {
        "colab": {
          "base_uri": "https://localhost:8080/",
          "height": 362
        },
        "id": "U6GXv5RHPo4n",
        "outputId": "440abc62-b896-4261-e0a6-f317e52d3986"
      },
      "execution_count": 110,
      "outputs": [
        {
          "output_type": "error",
          "ename": "ValueError",
          "evalue": "ignored",
          "traceback": [
            "\u001b[0;31m---------------------------------------------------------------------------\u001b[0m",
            "\u001b[0;31mValueError\u001b[0m                                Traceback (most recent call last)",
            "\u001b[0;32m<ipython-input-110-427f7c4e90e5>\u001b[0m in \u001b[0;36m<module>\u001b[0;34m()\u001b[0m\n\u001b[0;32m----> 1\u001b[0;31m \u001b[0mmodel\u001b[0m\u001b[0;34m.\u001b[0m\u001b[0mevaluate\u001b[0m\u001b[0;34m(\u001b[0m\u001b[0mX_test\u001b[0m\u001b[0;34m,\u001b[0m\u001b[0my_test\u001b[0m\u001b[0;34m)\u001b[0m\u001b[0;34m\u001b[0m\u001b[0;34m\u001b[0m\u001b[0m\n\u001b[0m",
            "\u001b[0;32m/usr/local/lib/python3.7/dist-packages/keras/utils/traceback_utils.py\u001b[0m in \u001b[0;36merror_handler\u001b[0;34m(*args, **kwargs)\u001b[0m\n\u001b[1;32m     65\u001b[0m     \u001b[0;32mexcept\u001b[0m \u001b[0mException\u001b[0m \u001b[0;32mas\u001b[0m \u001b[0me\u001b[0m\u001b[0;34m:\u001b[0m  \u001b[0;31m# pylint: disable=broad-except\u001b[0m\u001b[0;34m\u001b[0m\u001b[0;34m\u001b[0m\u001b[0m\n\u001b[1;32m     66\u001b[0m       \u001b[0mfiltered_tb\u001b[0m \u001b[0;34m=\u001b[0m \u001b[0m_process_traceback_frames\u001b[0m\u001b[0;34m(\u001b[0m\u001b[0me\u001b[0m\u001b[0;34m.\u001b[0m\u001b[0m__traceback__\u001b[0m\u001b[0;34m)\u001b[0m\u001b[0;34m\u001b[0m\u001b[0;34m\u001b[0m\u001b[0m\n\u001b[0;32m---> 67\u001b[0;31m       \u001b[0;32mraise\u001b[0m \u001b[0me\u001b[0m\u001b[0;34m.\u001b[0m\u001b[0mwith_traceback\u001b[0m\u001b[0;34m(\u001b[0m\u001b[0mfiltered_tb\u001b[0m\u001b[0;34m)\u001b[0m \u001b[0;32mfrom\u001b[0m \u001b[0;32mNone\u001b[0m\u001b[0;34m\u001b[0m\u001b[0;34m\u001b[0m\u001b[0m\n\u001b[0m\u001b[1;32m     68\u001b[0m     \u001b[0;32mfinally\u001b[0m\u001b[0;34m:\u001b[0m\u001b[0;34m\u001b[0m\u001b[0;34m\u001b[0m\u001b[0m\n\u001b[1;32m     69\u001b[0m       \u001b[0;32mdel\u001b[0m \u001b[0mfiltered_tb\u001b[0m\u001b[0;34m\u001b[0m\u001b[0;34m\u001b[0m\u001b[0m\n",
            "\u001b[0;32m/usr/local/lib/python3.7/dist-packages/keras/engine/data_adapter.py\u001b[0m in \u001b[0;36m_check_data_cardinality\u001b[0;34m(data)\u001b[0m\n\u001b[1;32m   1651\u001b[0m                            for i in tf.nest.flatten(single_data)))\n\u001b[1;32m   1652\u001b[0m     \u001b[0mmsg\u001b[0m \u001b[0;34m+=\u001b[0m \u001b[0;34m\"Make sure all arrays contain the same number of samples.\"\u001b[0m\u001b[0;34m\u001b[0m\u001b[0;34m\u001b[0m\u001b[0m\n\u001b[0;32m-> 1653\u001b[0;31m     \u001b[0;32mraise\u001b[0m \u001b[0mValueError\u001b[0m\u001b[0;34m(\u001b[0m\u001b[0mmsg\u001b[0m\u001b[0;34m)\u001b[0m\u001b[0;34m\u001b[0m\u001b[0;34m\u001b[0m\u001b[0m\n\u001b[0m\u001b[1;32m   1654\u001b[0m \u001b[0;34m\u001b[0m\u001b[0m\n\u001b[1;32m   1655\u001b[0m \u001b[0;34m\u001b[0m\u001b[0m\n",
            "\u001b[0;31mValueError\u001b[0m: Data cardinality is ambiguous:\n  x sizes: 208\n  y sizes: 624\nMake sure all arrays contain the same number of samples."
          ]
        }
      ]
    },
    {
      "cell_type": "code",
      "source": [
        "predictions = (model.predict(X_test) > 0.56).astype(\"int32\")\n",
        "predictions = predictions.reshape(1, -1)[0]\n",
        "predictions[:]"
      ],
      "metadata": {
        "colab": {
          "base_uri": "https://localhost:8080/"
        },
        "id": "d6AM0RlxPpuQ",
        "outputId": "9183672d-bb00-49eb-9f8c-8b99e946b0d3"
      },
      "execution_count": 97,
      "outputs": [
        {
          "output_type": "execute_result",
          "data": {
            "text/plain": [
              "array([0, 1, 0, 1, 0, 1, 0, 1, 0, 1, 0, 1, 0, 1, 0, 1, 0, 1, 0, 1, 0, 1,\n",
              "       0, 1, 0, 1, 0, 1, 0, 1, 0, 1, 0, 1, 0, 1, 0, 1, 0, 1, 0, 1, 0, 1,\n",
              "       0, 1, 0, 1, 0, 1, 0, 1, 0, 1, 0, 1, 0, 1, 0, 1, 0, 1, 0, 1, 0, 1,\n",
              "       0, 1, 0, 1, 0, 1, 0, 1, 0, 1, 0, 1, 0, 1, 0, 1, 0, 1, 0, 1, 0, 1,\n",
              "       0, 1, 0, 1, 0, 1, 0, 1, 0, 1, 0, 1, 0, 1, 0, 1, 0, 1, 0, 1, 0, 1,\n",
              "       0, 1, 0, 1, 0, 1, 0, 1, 0, 1, 0, 1, 0, 1, 0, 1, 0, 1, 0, 1, 0, 1,\n",
              "       0, 1, 0, 1, 0, 1, 0, 1, 0, 1, 0, 1, 0, 1, 0, 1, 0, 1, 0, 1, 0, 1,\n",
              "       0, 1, 0, 1, 0, 1, 0, 1, 0, 1, 0, 1, 0, 1, 0, 1, 0, 1, 0, 1, 0, 1,\n",
              "       0, 1, 0, 1, 0, 1, 0, 1, 0, 1, 0, 1, 0, 1, 0, 1, 0, 1, 0, 1, 0, 1,\n",
              "       0, 1, 0, 1, 0, 1, 0, 1, 0, 1, 0, 1, 0, 1, 0, 1, 0, 1, 0, 1, 0, 1,\n",
              "       0, 1, 0, 1, 0, 1, 0, 1, 0, 1, 0, 1, 0, 1, 0, 1, 0, 1, 0, 1, 0, 1,\n",
              "       0, 1, 0, 1, 0, 1, 0, 1, 0, 1, 0, 1, 0, 1, 0, 1, 0, 1, 0, 1, 0, 1,\n",
              "       0, 1, 0, 1, 0, 1, 0, 1, 0, 1, 0, 1, 0, 1, 0, 1, 0, 1, 0, 1, 0, 1,\n",
              "       0, 1, 0, 1, 0, 1, 0, 1, 0, 1, 0, 1, 0, 1, 0, 1, 0, 1, 0, 1, 0, 1,\n",
              "       0, 1, 0, 1, 0, 1, 0, 1, 0, 1, 0, 1, 0, 1, 0, 1, 0, 1, 0, 1, 0, 1,\n",
              "       0, 1, 0, 1, 0, 1, 0, 1, 0, 1, 0, 1, 0, 1, 0, 1, 0, 1, 0, 1, 0, 1,\n",
              "       0, 1, 0, 1, 0, 1, 0, 1, 0, 1, 0, 1, 0, 1, 0, 1, 0, 1, 0, 1, 0, 1,\n",
              "       0, 1, 0, 1, 0, 1, 0, 1, 0, 1, 0, 1, 0, 1, 0, 1, 0, 1, 0, 1, 0, 1,\n",
              "       0, 1, 0, 1, 0, 1, 0, 1, 0, 1, 0, 1, 0, 1, 0, 1, 0, 1, 0, 1],\n",
              "      dtype=int32)"
            ]
          },
          "metadata": {},
          "execution_count": 97
        }
      ]
    }
  ]
}